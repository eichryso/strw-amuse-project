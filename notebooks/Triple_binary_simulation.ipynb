{
 "cells": [
  {
   "cell_type": "markdown",
   "id": "85f63ee5",
   "metadata": {},
   "source": [
    "# Imports"
   ]
  },
  {
   "cell_type": "code",
   "execution_count": 1,
   "id": "08122b95",
   "metadata": {},
   "outputs": [],
   "source": [
    "import numpy as np"
   ]
  },
  {
   "cell_type": "code",
   "execution_count": 2,
   "id": "9eb9bb17",
   "metadata": {},
   "outputs": [
    {
     "name": "stderr",
     "output_type": "stream",
     "text": [
      "/Users/eirinichrysovergi/miniforge3/lib/python3.12/site-packages/amuse/support/options.py:11: UserWarning: pkg_resources is deprecated as an API. See https://setuptools.pypa.io/en/latest/pkg_resources.html. The pkg_resources package is slated for removal as early as 2025-11-30. Refrain from using this package or pin to Setuptools<81.\n",
      "  import pkg_resources\n"
     ]
    }
   ],
   "source": [
    "from run_6body_encounter import run_6_body_simulation\n",
    "from gif_plotting import visualize_frames"
   ]
  },
  {
   "cell_type": "markdown",
   "id": "ff35e470",
   "metadata": {},
   "source": [
    "# Examples of 6 body evolution (3 binaries)"
   ]
  },
  {
   "cell_type": "markdown",
   "id": "01f88a63",
   "metadata": {},
   "source": [
    "## No encounter"
   ]
  },
  {
   "cell_type": "code",
   "execution_count": 3,
   "id": "823a3ae1",
   "metadata": {},
   "outputs": [
    {
     "name": "stdout",
     "output_type": "stream",
     "text": [
      "Starting simulation\n",
      "Most massive star: Mass = 65.88 MSun, Velocity = 33.75 km/s\n"
     ]
    }
   ],
   "source": [
    "# Initial conditions\n",
    "age = 3.5 #Myr\n",
    "masses = [90, 10,  20, 70,  10, 10] #Msun\n",
    "sep= [30, 20, 50] #AU\n",
    "ecc = [0.0, 0.0, 0]\n",
    "centers = [[-100, 0, 0], [300, 0, 0], [0, 600, 0]] #AU\n",
    "v_coms = [[30., 3., 0.], [-10., -21., 0.], [5., -20., 1.] ] # km/s\n",
    "direction = [0.4, -0.6, 1.2]\n",
    "\n",
    "\n",
    "no_colission , _, _= run_6_body_simulation(age, masses,sep,ecc, direction, centers, v_coms, \"Test_No_Collision\")"
   ]
  },
  {
   "cell_type": "code",
   "execution_count": 4,
   "id": "b5b0e2e5",
   "metadata": {},
   "outputs": [
    {
     "name": "stdout",
     "output_type": "stream",
     "text": [
      " GIF saved as Gif-6body/encounter_evolution_Test_No collision.gif\n"
     ]
    }
   ],
   "source": [
    "visualize_frames(no_colission, \"Test_No collision\")"
   ]
  },
  {
   "cell_type": "markdown",
   "id": "6c9badf4",
   "metadata": {},
   "source": [
    "## Encounter"
   ]
  },
  {
   "cell_type": "code",
   "execution_count": 5,
   "id": "b6efafd3",
   "metadata": {},
   "outputs": [
    {
     "name": "stdout",
     "output_type": "stream",
     "text": [
      "Starting simulation\n",
      "Collision detected at 805.0 yr between 0 and 1\n",
      "Fi collision done: {'M': quantity<106.838499325 MSun>, 'Rscale': quantity<0.452765091637 au>, 'N': 1000}\n",
      "Collision 0 processed: remnant = 104.53 M☉, R = 14.16 R☉\n",
      "Most massive star: Mass = 104.53 MSun, Velocity = 27.72 km/s\n"
     ]
    }
   ],
   "source": [
    "# Initial conditions\n",
    "# fast-test settings (use low SPH resolution for debugging)\n",
    "age = 3.5  # Myr\n",
    "\n",
    "# Six stars (Msun). Total ~220 Msun so a >100 Msun remnant is possible after 2+ mergers.\n",
    "masses = [80, 40,   30, 20,    40, 10]   # [A1,A2, B1,B2, C1,C2] in MSun\n",
    "\n",
    "# Tight inner binary (A) to encourage a prompt merger; other binaries moderately tight.\n",
    "sep = [0.5, 1.0, 1.5]   # AU (A is very hard: 0.5 AU)\n",
    "\n",
    "# Moderate-high eccentricity for the tight binary to encourage pericenter collisions.\n",
    "ecc = [0.6, 0.2, 0.1]\n",
    "\n",
    "# Place the three binaries relatively close so cross-binary interactions happen quickly.\n",
    "centers = [\n",
    "    [  0.0,   0.0,   0.0],   # binary A center\n",
    "    [ 100.0,   50.0,   0.0],   # binary B center (nearby)\n",
    "    [-300.0,   50.0,   0.0],   # binary C center (nearby)\n",
    "]  # AU\n",
    "\n",
    "# Small relative COM velocities so gravity pulls them together rather than flying apart.\n",
    "v_coms = [\n",
    "    [ 0.05,  0.00,  0.00],   # km/s\n",
    "    [ 0.00, -0.05,  0.00],\n",
    "    [ 0.00,  0.05,  0.00],\n",
    "]\n",
    "\n",
    "# Orbital orientation angles for each binary (radians). Use non-zero inclinations to allow\n",
    "# large-angle interactions (Kozai-like orbits can help produce collisions).\n",
    "directions = [0.0, 0.4, -0.4]\n",
    "\n",
    "# Example run call\n",
    "frames, max_mass, max_vel = run_6_body_simulation(\n",
    "    age, masses, sep, ecc, directions, centers, v_coms, run_label=\"Run_for_ejection\"\n",
    ")"
   ]
  },
  {
   "cell_type": "code",
   "execution_count": 6,
   "id": "881100c3",
   "metadata": {},
   "outputs": [
    {
     "name": "stdout",
     "output_type": "stream",
     "text": [
      "Tracking most massive star (index 0) with final mass 104.53 M☉\n",
      "🎬 GIF saved as Gif-6body/encounter_evolution_Collision.gif\n"
     ]
    }
   ],
   "source": [
    "visualize_frames(frames, \"Collision\")"
   ]
  },
  {
   "cell_type": "markdown",
   "id": "e87c0408",
   "metadata": {},
   "source": [
    "# MC integrations (wrong)"
   ]
  },
  {
   "cell_type": "code",
   "execution_count": 3,
   "id": "e4c19e63",
   "metadata": {},
   "outputs": [
    {
     "name": "stdout",
     "output_type": "stream",
     "text": [
      "Results will be saved in MC_test_run\n",
      "--- Impact parameter b=0.0 au ---\n",
      "Starting simulation\n",
      "Collision detected at 5.0 yr between 0 and 1\n",
      "Fi collision done: {'M': quantity<132.735944114 MSun>, 'Rscale': quantity<0.353959785207 au>, 'N': 1000}\n",
      "Collision 0 processed: remnant = 7.96 M☉, R = 3.26 R☉\n",
      "Most massive star: Mass = 61.62 MSun, Velocity = 213.00 km/s\n",
      "Starting simulation\n",
      "Collision detected at 5.0 yr between 1 and 3\n",
      "Fi collision done: {'M': quantity<98.5536174915 MSun>, 'Rscale': quantity<0.241709749552 au>, 'N': 1000}\n",
      "Collision 0 processed: remnant = 51.39 M☉, R = 9.44 R☉\n",
      "Most massive star: Mass = 66.46 MSun, Velocity = 120.62 km/s\n",
      "Starting simulation\n"
     ]
    },
    {
     "ename": "KeyboardInterrupt",
     "evalue": "",
     "output_type": "error",
     "traceback": [
      "\u001b[31m---------------------------------------------------------------------------\u001b[39m",
      "\u001b[31mKeyboardInterrupt\u001b[39m                         Traceback (most recent call last)",
      "\u001b[36mCell\u001b[39m\u001b[36m \u001b[39m\u001b[32mIn[3]\u001b[39m\u001b[32m, line 38\u001b[39m\n\u001b[32m     35\u001b[39m \u001b[38;5;28;01mif\u001b[39;00m \u001b[34m__name__\u001b[39m == \u001b[33m\"\u001b[39m\u001b[33m__main__\u001b[39m\u001b[33m\"\u001b[39m:\n\u001b[32m     36\u001b[39m     \u001b[38;5;66;03m# Trick cross_section_6body_Hut to think it's run as __main__\u001b[39;00m\n\u001b[32m     37\u001b[39m     cross_section_6body_Hut.\u001b[34m__name__\u001b[39m = \u001b[33m\"\u001b[39m\u001b[33m__main__\u001b[39m\u001b[33m\"\u001b[39m\n\u001b[32m---> \u001b[39m\u001b[32m38\u001b[39m     \u001b[43mexec\u001b[49m\u001b[43m(\u001b[49m\u001b[38;5;28;43mopen\u001b[39;49m\u001b[43m(\u001b[49m\u001b[43mcross_section_6body_Hut\u001b[49m\u001b[43m.\u001b[49m\u001b[34;43m__file__\u001b[39;49m\u001b[43m)\u001b[49m\u001b[43m.\u001b[49m\u001b[43mread\u001b[49m\u001b[43m(\u001b[49m\u001b[43m)\u001b[49m\u001b[43m)\u001b[49m\n",
      "\u001b[36mFile \u001b[39m\u001b[32m<string>:254\u001b[39m\n",
      "\u001b[36mFile \u001b[39m\u001b[32m~/amuse-2025.9.0/strw-amuse-project/Notebooks/run_6body_encounter.py:114\u001b[39m, in \u001b[36mrun_6_body_simulation\u001b[39m\u001b[34m(age, masses, sep, ecc, direction, centers, v_coms, run_label)\u001b[39m\n\u001b[32m    112\u001b[39m \u001b[38;5;28;01mwhile\u001b[39;00m t < t_end:\n\u001b[32m    113\u001b[39m     t += dt\n\u001b[32m--> \u001b[39m\u001b[32m114\u001b[39m     \u001b[43mgravity\u001b[49m\u001b[43m.\u001b[49m\u001b[43mevolve_model\u001b[49m\u001b[43m(\u001b[49m\u001b[43mt\u001b[49m\u001b[43m)\u001b[49m\n\u001b[32m    115\u001b[39m     seba.evolve_model(target_age + t)\n\u001b[32m    116\u001b[39m     frames.append(gravity.particles.copy())\n",
      "\u001b[36mFile \u001b[39m\u001b[32m~/miniforge3/lib/python3.12/site-packages/amuse/support/methods.py:168\u001b[39m, in \u001b[36mCodeMethodWrapper.__call__\u001b[39m\u001b[34m(self, *list_arguments, **keyword_arguments)\u001b[39m\n\u001b[32m    166\u001b[39m \u001b[38;5;28mobject\u001b[39m = \u001b[38;5;28mself\u001b[39m.precall()\n\u001b[32m    167\u001b[39m list_arguments, keyword_arguments = \u001b[38;5;28mself\u001b[39m.convert_arguments(list_arguments, keyword_arguments)\n\u001b[32m--> \u001b[39m\u001b[32m168\u001b[39m result = \u001b[38;5;28;43mself\u001b[39;49m\u001b[43m.\u001b[49m\u001b[43mmethod\u001b[49m\u001b[43m(\u001b[49m\u001b[43m*\u001b[49m\u001b[43mlist_arguments\u001b[49m\u001b[43m,\u001b[49m\u001b[43m \u001b[49m\u001b[43m*\u001b[49m\u001b[43m*\u001b[49m\u001b[43mkeyword_arguments\u001b[49m\u001b[43m)\u001b[49m\n\u001b[32m    170\u001b[39m result = \u001b[38;5;28mself\u001b[39m.convert_result(result)\n\u001b[32m    172\u001b[39m \u001b[38;5;28mself\u001b[39m.postcall(\u001b[38;5;28mobject\u001b[39m)\n",
      "\u001b[36mFile \u001b[39m\u001b[32m~/miniforge3/lib/python3.12/site-packages/amuse/support/methods.py:168\u001b[39m, in \u001b[36mCodeMethodWrapper.__call__\u001b[39m\u001b[34m(self, *list_arguments, **keyword_arguments)\u001b[39m\n\u001b[32m    166\u001b[39m \u001b[38;5;28mobject\u001b[39m = \u001b[38;5;28mself\u001b[39m.precall()\n\u001b[32m    167\u001b[39m list_arguments, keyword_arguments = \u001b[38;5;28mself\u001b[39m.convert_arguments(list_arguments, keyword_arguments)\n\u001b[32m--> \u001b[39m\u001b[32m168\u001b[39m result = \u001b[38;5;28;43mself\u001b[39;49m\u001b[43m.\u001b[49m\u001b[43mmethod\u001b[49m\u001b[43m(\u001b[49m\u001b[43m*\u001b[49m\u001b[43mlist_arguments\u001b[49m\u001b[43m,\u001b[49m\u001b[43m \u001b[49m\u001b[43m*\u001b[49m\u001b[43m*\u001b[49m\u001b[43mkeyword_arguments\u001b[49m\u001b[43m)\u001b[49m\n\u001b[32m    170\u001b[39m result = \u001b[38;5;28mself\u001b[39m.convert_result(result)\n\u001b[32m    172\u001b[39m \u001b[38;5;28mself\u001b[39m.postcall(\u001b[38;5;28mobject\u001b[39m)\n",
      "\u001b[36mFile \u001b[39m\u001b[32m~/miniforge3/lib/python3.12/site-packages/amuse/support/methods.py:168\u001b[39m, in \u001b[36mCodeMethodWrapper.__call__\u001b[39m\u001b[34m(self, *list_arguments, **keyword_arguments)\u001b[39m\n\u001b[32m    166\u001b[39m \u001b[38;5;28mobject\u001b[39m = \u001b[38;5;28mself\u001b[39m.precall()\n\u001b[32m    167\u001b[39m list_arguments, keyword_arguments = \u001b[38;5;28mself\u001b[39m.convert_arguments(list_arguments, keyword_arguments)\n\u001b[32m--> \u001b[39m\u001b[32m168\u001b[39m result = \u001b[38;5;28;43mself\u001b[39;49m\u001b[43m.\u001b[49m\u001b[43mmethod\u001b[49m\u001b[43m(\u001b[49m\u001b[43m*\u001b[49m\u001b[43mlist_arguments\u001b[49m\u001b[43m,\u001b[49m\u001b[43m \u001b[49m\u001b[43m*\u001b[49m\u001b[43m*\u001b[49m\u001b[43mkeyword_arguments\u001b[49m\u001b[43m)\u001b[49m\n\u001b[32m    170\u001b[39m result = \u001b[38;5;28mself\u001b[39m.convert_result(result)\n\u001b[32m    172\u001b[39m \u001b[38;5;28mself\u001b[39m.postcall(\u001b[38;5;28mobject\u001b[39m)\n",
      "\u001b[36mFile \u001b[39m\u001b[32m~/miniforge3/lib/python3.12/site-packages/amuse/support/methods.py:267\u001b[39m, in \u001b[36mProxyingMethodWrapper.__call__\u001b[39m\u001b[34m(self, *list_arguments, **keyword_arguments)\u001b[39m\n\u001b[32m    266\u001b[39m \u001b[38;5;28;01mdef\u001b[39;00m\u001b[38;5;250m \u001b[39m\u001b[34m__call__\u001b[39m(\u001b[38;5;28mself\u001b[39m, *list_arguments, **keyword_arguments):\n\u001b[32m--> \u001b[39m\u001b[32m267\u001b[39m     \u001b[38;5;28;01mreturn\u001b[39;00m \u001b[38;5;28;43mself\u001b[39;49m\u001b[43m.\u001b[49m\u001b[43mmethod\u001b[49m\u001b[43m(\u001b[49m\u001b[43m*\u001b[49m\u001b[43mlist_arguments\u001b[49m\u001b[43m,\u001b[49m\u001b[43m \u001b[49m\u001b[43m*\u001b[49m\u001b[43m*\u001b[49m\u001b[43mkeyword_arguments\u001b[49m\u001b[43m)\u001b[49m\n",
      "\u001b[36mFile \u001b[39m\u001b[32m~/miniforge3/lib/python3.12/site-packages/amuse/rfi/core.py:129\u001b[39m, in \u001b[36mCodeFunction.__call__\u001b[39m\u001b[34m(self, *arguments_list, **keyword_arguments)\u001b[39m\n\u001b[32m    124\u001b[39m \u001b[38;5;28;01mtry\u001b[39;00m:\n\u001b[32m    125\u001b[39m     \u001b[38;5;28mself\u001b[39m.interface.channel.send_message(\n\u001b[32m    126\u001b[39m         call_id, \u001b[38;5;28mself\u001b[39m.specification.id, dtype_to_arguments=dtype_to_values\n\u001b[32m    127\u001b[39m     )\n\u001b[32m--> \u001b[39m\u001b[32m129\u001b[39m     dtype_to_result = \u001b[38;5;28;43mself\u001b[39;49m\u001b[43m.\u001b[49m\u001b[43minterface\u001b[49m\u001b[43m.\u001b[49m\u001b[43mchannel\u001b[49m\u001b[43m.\u001b[49m\u001b[43mrecv_message\u001b[49m\u001b[43m(\u001b[49m\n\u001b[32m    130\u001b[39m \u001b[43m        \u001b[49m\u001b[43mcall_id\u001b[49m\u001b[43m,\u001b[49m\u001b[43m \u001b[49m\u001b[38;5;28;43mself\u001b[39;49m\u001b[43m.\u001b[49m\u001b[43mspecification\u001b[49m\u001b[43m.\u001b[49m\u001b[43mid\u001b[49m\u001b[43m,\u001b[49m\u001b[43m \u001b[49m\u001b[43mhandle_as_array\u001b[49m\n\u001b[32m    131\u001b[39m \u001b[43m    \u001b[49m\u001b[43m)\u001b[49m\n\u001b[32m    132\u001b[39m \u001b[38;5;28;01mexcept\u001b[39;00m \u001b[38;5;167;01mException\u001b[39;00m \u001b[38;5;28;01mas\u001b[39;00m ex:\n\u001b[32m    133\u001b[39m     CODE_LOG.info(\n\u001b[32m    134\u001b[39m         \u001b[33m\"\u001b[39m\u001b[33mException when calling function \u001b[39m\u001b[33m'\u001b[39m\u001b[38;5;132;01m{0}\u001b[39;00m\u001b[33m'\u001b[39m\u001b[33m, of code \u001b[39m\u001b[33m'\u001b[39m\u001b[38;5;132;01m{1}\u001b[39;00m\u001b[33m'\u001b[39m\u001b[33m, exception was \u001b[39m\u001b[33m'\u001b[39m\u001b[38;5;132;01m{2}\u001b[39;00m\u001b[33m'\u001b[39m\u001b[33m\"\u001b[39m.format(\n\u001b[32m    135\u001b[39m             \u001b[38;5;28mself\u001b[39m.specification.name, \u001b[38;5;28mtype\u001b[39m(\u001b[38;5;28mself\u001b[39m.interface).\u001b[34m__name__\u001b[39m, ex\n\u001b[32m    136\u001b[39m         )\n\u001b[32m    137\u001b[39m     )\n",
      "\u001b[36mFile \u001b[39m\u001b[32m~/miniforge3/lib/python3.12/site-packages/amuse/rfi/channel.py:1339\u001b[39m, in \u001b[36mMpiChannel.recv_message\u001b[39m\u001b[34m(self, call_id, function_id, handle_as_array, has_units)\u001b[39m\n\u001b[32m   1335\u001b[39m message = ServerSideMPIMessage(\n\u001b[32m   1336\u001b[39m     polling_interval=\u001b[38;5;28mself\u001b[39m.polling_interval_in_milliseconds * \u001b[32m1000\u001b[39m\n\u001b[32m   1337\u001b[39m )\n\u001b[32m   1338\u001b[39m \u001b[38;5;28;01mtry\u001b[39;00m:\n\u001b[32m-> \u001b[39m\u001b[32m1339\u001b[39m     \u001b[43mmessage\u001b[49m\u001b[43m.\u001b[49m\u001b[43mreceive\u001b[49m\u001b[43m(\u001b[49m\u001b[38;5;28;43mself\u001b[39;49m\u001b[43m.\u001b[49m\u001b[43mintercomm\u001b[49m\u001b[43m)\u001b[49m\n\u001b[32m   1340\u001b[39m \u001b[38;5;28;01mexcept\u001b[39;00m MPI.Exception \u001b[38;5;28;01mas\u001b[39;00m ex:\n\u001b[32m   1341\u001b[39m     \u001b[38;5;28mself\u001b[39m._is_inuse = \u001b[38;5;28;01mFalse\u001b[39;00m\n",
      "\u001b[36mFile \u001b[39m\u001b[32m~/miniforge3/lib/python3.12/site-packages/amuse/rfi/channel.py:124\u001b[39m, in \u001b[36mMPIMessage.receive\u001b[39m\u001b[34m(self, comm)\u001b[39m\n\u001b[32m    123\u001b[39m \u001b[38;5;28;01mdef\u001b[39;00m\u001b[38;5;250m \u001b[39m\u001b[34mreceive\u001b[39m(\u001b[38;5;28mself\u001b[39m, comm):\n\u001b[32m--> \u001b[39m\u001b[32m124\u001b[39m     header = \u001b[38;5;28;43mself\u001b[39;49m\u001b[43m.\u001b[49m\u001b[43mreceive_header\u001b[49m\u001b[43m(\u001b[49m\u001b[43mcomm\u001b[49m\u001b[43m)\u001b[49m\n\u001b[32m    125\u001b[39m     \u001b[38;5;28mself\u001b[39m.receive_content(comm, header)\n",
      "\u001b[36mFile \u001b[39m\u001b[32m~/miniforge3/lib/python3.12/site-packages/amuse/rfi/channel.py:361\u001b[39m, in \u001b[36mServerSideMPIMessage.receive_header\u001b[39m\u001b[34m(self, comm)\u001b[39m\n\u001b[32m    359\u001b[39m     request.Wait()\n\u001b[32m    360\u001b[39m \u001b[38;5;28;01melse\u001b[39;00m:\n\u001b[32m--> \u001b[39m\u001b[32m361\u001b[39m     \u001b[43mrequest\u001b[49m\u001b[43m.\u001b[49m\u001b[43mWait\u001b[49m\u001b[43m(\u001b[49m\u001b[43m)\u001b[49m\n\u001b[32m    362\u001b[39m \u001b[38;5;28;01mreturn\u001b[39;00m header\n",
      "\u001b[31mKeyboardInterrupt\u001b[39m: "
     ]
    }
   ],
   "source": [
    "# run_MC_6body.py\n",
    "\"\"\"\n",
    "Minimal driver to run full Monte Carlo triple-triple encounters\n",
    "using cross_section_6body_Hut.py\n",
    "\"\"\"\n",
    "\n",
    "import cross_section_6body_Hut  # your module\n",
    "import os\n",
    "import sys\n",
    "\n",
    "# -----------------------------\n",
    "# Parameters\n",
    "# -----------------------------\n",
    "v_factor = 1.0       # velocity in units of critical velocity\n",
    "n_b = 5              # number of impact parameters\n",
    "sim_per_b = 3        # simulations per impact parameter\n",
    "output_dir = \"MC_test_run\"\n",
    "\n",
    "os.makedirs(output_dir, exist_ok=True)\n",
    "\n",
    "# -----------------------------\n",
    "# Simulate command-line args\n",
    "# -----------------------------\n",
    "sys.argv = [\n",
    "    \"run_MC_6body.py\",\n",
    "    \"--velocity\", str(v_factor),\n",
    "    \"--n_b\", str(n_b),\n",
    "    \"--sim_per_b\", str(sim_per_b),\n",
    "    \"--output\", output_dir\n",
    "]\n",
    "\n",
    "# -----------------------------\n",
    "# Execute the main driver\n",
    "# -----------------------------\n",
    "if __name__ == \"__main__\":\n",
    "    # Trick cross_section_6body_Hut to think it's run as __main__\n",
    "    cross_section_6body_Hut.__name__ = \"__main__\"\n",
    "    exec(open(cross_section_6body_Hut.__file__).read())\n",
    "\n",
    "\n"
   ]
  },
  {
   "cell_type": "code",
   "execution_count": null,
   "id": "fe2ba21e",
   "metadata": {},
   "outputs": [],
   "source": []
  }
 ],
 "metadata": {
  "kernelspec": {
   "display_name": "base",
   "language": "python",
   "name": "python3"
  },
  "language_info": {
   "codemirror_mode": {
    "name": "ipython",
    "version": 3
   },
   "file_extension": ".py",
   "mimetype": "text/x-python",
   "name": "python",
   "nbconvert_exporter": "python",
   "pygments_lexer": "ipython3",
   "version": "3.12.11"
  }
 },
 "nbformat": 4,
 "nbformat_minor": 5
}
